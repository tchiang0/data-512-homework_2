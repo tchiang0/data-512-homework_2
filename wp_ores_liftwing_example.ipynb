{
 "cells": [
  {
   "cell_type": "markdown",
   "metadata": {
    "tags": []
   },
   "source": [
    "# Requesting ORES scores through LiftWing ML Service API\n",
    "Wikimedia Foundation (WMF) is reworking access to their APIs. It is likely in the coming years that all API access will require some kind of authentication, either through a simple key/token or through some version of OAuth. For now this is still a work in progress. You can follow the progress from their [API portal](https://api.wikimedia.org/wiki/Main_Page). Another on-going change is better control over API services in situations where those services require additional computational resources, beyond simply serving the text of a web page (i.e., the text of an article). Services like ORES that require running an ML model over the text of an article page is an example of a compute intensive API service.\n",
    "\n",
    "Wikimedia is implementing a new Machine Learning (ML) service infrastructure that they call [LiftWing](https://wikitech.wikimedia.org/wiki/Machine_Learning/LiftWing). Given that ORES already has several ML models that have been well used, ORES is the first set of APIs that are being moved to LiftWing.\n",
    "\n",
    "This example illustrates how to generate article quality estimates for article revisions using the LiftWing version of [ORES](https://www.mediawiki.org/wiki/ORES). The [ORES API documentation](https://ores.wikimedia.org) can be accessed from the main ORES page. The [ORES LiftWing documentation](https://wikitech.wikimedia.org/wiki/Machine_Learning/LiftWing/Usage) is very thin ... even thinner than the standard ORES documentation. Further, it is clear that some parameters have been renamed (e.g., \"revid\" in the old ORES API is now \"rev_id\" in the LiftWing ORES API).\n",
    "\n",
    "\n",
    "## License\n",
    "This code example was developed by Dr. David W. McDonald for use in DATA 512, a course in the UW MS Data Science degree program. This code is provided under the [Creative Commons](https://creativecommons.org) [CC-BY license](https://creativecommons.org/licenses/by/4.0/). Revision 1.0 - August 15, 2023\n",
    "\n"
   ]
  },
  {
   "cell_type": "code",
   "execution_count": 1,
   "metadata": {
    "tags": []
   },
   "outputs": [],
   "source": [
    "import json, time, urllib.parse, os\n",
    "import requests"
   ]
  },
  {
   "cell_type": "code",
   "execution_count": 2,
   "metadata": {
    "tags": []
   },
   "outputs": [],
   "source": [
    "#########\n",
    "#\n",
    "#    CONSTANTS\n",
    "#\n",
    "\n",
    "#    The current LiftWing ORES API endpoint and prediction model\n",
    "#\n",
    "API_ORES_LIFTWING_ENDPOINT = \"https://api.wikimedia.org/service/lw/inference/v1/models/{model_name}:predict\"\n",
    "API_ORES_EN_QUALITY_MODEL = \"enwiki-articlequality\"\n",
    "\n",
    "#\n",
    "#    The throttling rate is a function of the Access token that you are granted when you request the token. The constants\n",
    "#    come from dissecting the token and getting the rate limits from the granted token. An example of that is below.\n",
    "#\n",
    "API_LATENCY_ASSUMED = 0.002       # Assuming roughly 2ms latency on the API and network\n",
    "API_THROTTLE_WAIT = ((60.0*60.0)/5000.0)-API_LATENCY_ASSUMED  # The key authorizes 5000 requests per hour\n",
    "\n",
    "#    When making automated requests we should include something that is unique to the person making the request\n",
    "#    This should include an email - your UW email would be good to put in there\n",
    "#    \n",
    "#    Because all LiftWing API requests require some form of authentication, you need to provide your access token\n",
    "#    as part of the header too\n",
    "#\n",
    "REQUEST_HEADER_TEMPLATE = {\n",
    "    'User-Agent': \"<{email_address}>, University of Washington, MSDS DATA 512 - AUTUMN 2024\",\n",
    "    'Content-Type': 'application/json',\n",
    "    'Authorization': \"Bearer {access_token}\"\n",
    "}\n",
    "#\n",
    "#    This is a template for the parameters that we need to supply in the headers of an API request\n",
    "#\n",
    "REQUEST_HEADER_PARAMS_TEMPLATE = {\n",
    "    'email_address' : \"\",         # your email address should go here\n",
    "    'access_token'  : \"\"          # the access token you create will need to go here\n",
    "}\n",
    "\n",
    "#\n",
    "#    A dictionary of English Wikipedia article titles (keys) and sample revision IDs that can be used for this ORES scoring example\n",
    "#\n",
    "ARTICLE_REVISIONS = { 'Bison':1085687913 , 'Northern flicker':1086582504 , 'Red squirrel':1083787665 , 'Chinook salmon':1085406228 , 'Horseshoe bat':1060601936 }\n",
    "\n",
    "#\n",
    "#    This is a template of the data required as a payload when making a scoring request of the ORES model\n",
    "#\n",
    "ORES_REQUEST_DATA_TEMPLATE = {\n",
    "    \"lang\":        \"en\",     # required that its english - we're scoring English Wikipedia revisions\n",
    "    \"rev_id\":      \"\",       # this request requires a revision id\n",
    "    \"features\":    True\n",
    "}\n",
    "\n",
    "# wikimedia API access token\n",
    "ACCESS_TOKEN = os.getenv(\"ACCESS_TOKEN\")"
   ]
  },
  {
   "cell_type": "markdown",
   "metadata": {},
   "source": [
    "The Wikimedia Foundation appears to be issuing access tokens that are adhering to the [JWT (JSON Web Token) standard](https://jwt.io/introduction/). There was also some documentation by IBM about the [use of JWT tokens](https://www.ibm.com/docs/en/cics-ts/6.1?topic=cics-json-web-token-jwt) that I found useful. Keep in mind, documentation from IBM is specific to their implementation of the JWT standard. Access tokens are composed of different parts that specify the domain being accessed and rate limits. The little snippet of code below is not required to make ORES requests. It just allows us to see what is in the Wikimedia provided access token that you were issued."
   ]
  },
  {
   "cell_type": "code",
   "execution_count": 7,
   "metadata": {},
   "outputs": [
    {
     "name": "stdout",
     "output_type": "stream",
     "text": [
      "Decoding the ACCESS_TOKEN:\n",
      "Token Header: {\n",
      "    \"typ\": \"JWT\",\n",
      "    \"alg\": \"RS256\"\n",
      "}\n",
      "Token Payload: {\n",
      "    \"aud\": \"571645b74f546faa7cbcd6870c07474f\",\n",
      "    \"jti\": \"6f76411ead0cb1f80007f5c2dde7202a84c77c1f080e300826076a2c3c4ef859f4f0dd45e979ee3e\",\n",
      "    \"iat\": 1728409462.264729,\n",
      "    \"nbf\": 1728409462.264733,\n",
      "    \"exp\": 33285318262.26138,\n",
      "    \"sub\": \"76671469\",\n",
      "    \"iss\": \"https://meta.wikimedia.org\",\n",
      "    \"ratelimit\": {\n",
      "        \"requests_per_unit\": 5000,\n",
      "        \"unit\": \"HOUR\"\n",
      "    },\n",
      "    \"scopes\": [\n",
      "        \"basic\"\n",
      "    ]\n",
      "}\n",
      "Token Signature: <value_suppressed>\n"
     ]
    }
   ],
   "source": [
    "#\n",
    "#   Decode the Wikimedia JWT Access token\n",
    "#\n",
    "#   NOTE: This is not required to use LiftWing to request ORES scores. This is just being done to satisfy my curiosity.\n",
    "#   You might be curious too!\n",
    "#\n",
    "import base64\n",
    "\n",
    "print(\"Decoding the ACCESS_TOKEN:\")\n",
    "try:\n",
    "    token_components = ACCESS_TOKEN.split(\".\")\n",
    "    if len(token_components) == 3:\n",
    "        header = json.loads(base64.b64decode(token_components[0]).decode())\n",
    "        payload = json.loads(base64.b64decode(token_components[1]).decode())\n",
    "        print(\"Token Header:\",json.dumps(header,indent=4))\n",
    "        print(\"Token Payload:\",json.dumps(payload,indent=4))\n",
    "        #print(\"Token Signature:\",token_components[2])\n",
    "        print(\"Token Signature: <value_suppressed>\")\n",
    "        #\n",
    "        #  One should be able to use public/private keys to actually validate that signature - left as an exercise for later\n",
    "        #\n",
    "    else:\n",
    "        print(f\"The ACCESS_TOKEN appears to be improperly structured. It should have 3 components and it has {len(token_components)}\")\n",
    "except Exception as ex:\n",
    "    print(f\"Looks like the ACCESS_TOKEN is undefined or an empty value\")\n",
    "    raise(ex)"
   ]
  },
  {
   "cell_type": "markdown",
   "metadata": {},
   "source": [
    "## Define a function to make the ORES API request\n",
    "\n",
    "The API request will be made using a function to encapsulate call and make access reusable in other notebooks. The procedure is parameterized, relying on the constants above for some important default parameters. The primary assumption is that this function will be used to request data for a set of article revisions. The main parameter is 'article_revid'. One should be able to simply pass in a new article revision id on each call and get back a python dictionary as the result. A valid result will be a dictionary that contains the probabilities that the specific revision is one of six different article quality levels. Generally, quality level with the highest probability score is considered the quality level for the article. This can be tricky when you have two (or more) highly probable quality levels."
   ]
  },
  {
   "cell_type": "code",
   "execution_count": 8,
   "metadata": {},
   "outputs": [],
   "source": [
    "#########\n",
    "#\n",
    "#    PROCEDURES/FUNCTIONS\n",
    "#\n",
    "\n",
    "def request_ores_score_per_article(article_revid = None, email_address=None, access_token=None,\n",
    "                                   endpoint_url = API_ORES_LIFTWING_ENDPOINT, \n",
    "                                   model_name = API_ORES_EN_QUALITY_MODEL, \n",
    "                                   request_data = ORES_REQUEST_DATA_TEMPLATE, \n",
    "                                   header_format = REQUEST_HEADER_TEMPLATE, \n",
    "                                   header_params = REQUEST_HEADER_PARAMS_TEMPLATE):\n",
    "    \n",
    "    #    Make sure we have an article revision id, email and token\n",
    "    #    This approach prioritizes the parameters passed in when making the call\n",
    "    if article_revid:\n",
    "        request_data['rev_id'] = article_revid\n",
    "    if email_address:\n",
    "        header_params['email_address'] = email_address\n",
    "    if access_token:\n",
    "        header_params['access_token'] = access_token\n",
    "    \n",
    "    #   Making a request requires a revision id - an email address - and the access token\n",
    "    if not request_data['rev_id']:\n",
    "        raise Exception(\"Must provide an article revision id (rev_id) to score articles\")\n",
    "    if not header_params['email_address']:\n",
    "        raise Exception(\"Must provide an 'email_address' value\")\n",
    "    if not header_params['access_token']:\n",
    "        raise Exception(\"Must provide an 'access_token' value\")\n",
    "    \n",
    "    # Create the request URL with the specified model parameter - default is a article quality score request\n",
    "    request_url = endpoint_url.format(model_name=model_name)\n",
    "    \n",
    "    # Create a compliant request header from the template and the supplied parameters\n",
    "    headers = dict()\n",
    "    for key in header_format.keys():\n",
    "        headers[str(key)] = header_format[key].format(**header_params)\n",
    "    \n",
    "    # make the request\n",
    "    try:\n",
    "        # we'll wait first, to make sure we don't exceed the limit in the situation where an exception\n",
    "        # occurs during the request processing - throttling is always a good practice with a free data\n",
    "        # source like ORES - or other community sources\n",
    "        if API_THROTTLE_WAIT > 0.0:\n",
    "            time.sleep(API_THROTTLE_WAIT)\n",
    "        #response = requests.get(request_url, headers=headers)\n",
    "        response = requests.post(request_url, headers=headers, data=json.dumps(request_data))\n",
    "        json_response = response.json()\n",
    "    except Exception as e:\n",
    "        print(e)\n",
    "        json_response = None\n",
    "    return json_response\n"
   ]
  },
  {
   "cell_type": "markdown",
   "metadata": {},
   "source": [
    "**Example 1** - Call the function by passing in three items, revision id, email, and access token"
   ]
  },
  {
   "cell_type": "code",
   "execution_count": 9,
   "metadata": {},
   "outputs": [
    {
     "name": "stdout",
     "output_type": "stream",
     "text": [
      "Getting LiftWing ORES scores for 'Bison' with revid: 1085687913\n",
      "{\n",
      "    \"enwiki\": {\n",
      "        \"models\": {\n",
      "            \"articlequality\": {\n",
      "                \"version\": \"0.9.2\"\n",
      "            }\n",
      "        },\n",
      "        \"scores\": {\n",
      "            \"1085687913\": {\n",
      "                \"articlequality\": {\n",
      "                    \"score\": {\n",
      "                        \"prediction\": \"FA\",\n",
      "                        \"probability\": {\n",
      "                            \"B\": 0.07895665991827401,\n",
      "                            \"C\": 0.03728215742560417,\n",
      "                            \"FA\": 0.5629436065906797,\n",
      "                            \"GA\": 0.30547854835374505,\n",
      "                            \"Start\": 0.011061807252218824,\n",
      "                            \"Stub\": 0.00427722045947826\n",
      "                        }\n",
      "                    }\n",
      "                }\n",
      "            }\n",
      "        }\n",
      "    }\n",
      "}\n"
     ]
    }
   ],
   "source": [
    "#   \n",
    "#\n",
    "#   Which article - the key for the article dictionary defined above\n",
    "article_title = \"Bison\"\n",
    "#\n",
    "print(f\"Getting LiftWing ORES scores for '{article_title}' with revid: {ARTICLE_REVISIONS[article_title]:d}\")\n",
    "#\n",
    "#    Make the call, just pass in the article revision ID, email address, and access token\n",
    "score = request_ores_score_per_article(article_revid=ARTICLE_REVISIONS[article_title],\n",
    "                                       email_address=\"dwmc@uw.edu\",\n",
    "                                       access_token=ACCESS_TOKEN)\n",
    "#\n",
    "#    Output the result\n",
    "print(json.dumps(score,indent=4))\n",
    "#"
   ]
  },
  {
   "cell_type": "markdown",
   "metadata": {},
   "source": [
    "**Example 2** - Call the function by copying and initializing parameter templates and using those"
   ]
  },
  {
   "cell_type": "code",
   "execution_count": 10,
   "metadata": {},
   "outputs": [
    {
     "name": "stdout",
     "output_type": "stream",
     "text": [
      "Getting LiftWing ORES scores for 'Red squirrel' with revid: 1083787665\n",
      "{\n",
      "    \"enwiki\": {\n",
      "        \"models\": {\n",
      "            \"articlequality\": {\n",
      "                \"version\": \"0.9.2\"\n",
      "            }\n",
      "        },\n",
      "        \"scores\": {\n",
      "            \"1083787665\": {\n",
      "                \"articlequality\": {\n",
      "                    \"score\": {\n",
      "                        \"prediction\": \"C\",\n",
      "                        \"probability\": {\n",
      "                            \"B\": 0.34796005858456314,\n",
      "                            \"C\": 0.5493773163633026,\n",
      "                            \"FA\": 0.033407655474737605,\n",
      "                            \"GA\": 0.056969127408174655,\n",
      "                            \"Start\": 0.008976178264322794,\n",
      "                            \"Stub\": 0.0033096639048991057\n",
      "                        }\n",
      "                    }\n",
      "                }\n",
      "            }\n",
      "        }\n",
      "    }\n",
      "}\n"
     ]
    }
   ],
   "source": [
    "#\n",
    "#   What article - the key for the article dictionary defined above\n",
    "article_title = \"Red squirrel\"\n",
    "#\n",
    "#   We have to pass in some parameters used for the request header. Create a copy of the template and fill in some fields.\n",
    "hparams = REQUEST_HEADER_PARAMS_TEMPLATE.copy()\n",
    "hparams['email_address'] = \"dwmc@uw.edu\"\n",
    "hparams['access_token'] = ACCESS_TOKEN\n",
    "#\n",
    "#    We can also do this with the request data - although this might not be as useful as with the header params\n",
    "rd = ORES_REQUEST_DATA_TEMPLATE.copy()\n",
    "rd['rev_id'] = ARTICLE_REVISIONS[article_title]\n",
    "#\n",
    "print(f\"Getting LiftWing ORES scores for '{article_title}' with revid: {ARTICLE_REVISIONS[article_title]:d}\")\n",
    "#\n",
    "#    Make the call, just pass in the article revision ID and the header parameters\n",
    "score = request_ores_score_per_article(request_data=rd,\n",
    "                                       header_params=hparams)\n",
    "#\n",
    "#    Output the result\n",
    "print(json.dumps(score,indent=4))\n",
    "#"
   ]
  },
  {
   "cell_type": "code",
   "execution_count": null,
   "metadata": {},
   "outputs": [],
   "source": []
  }
 ],
 "metadata": {
  "kernelspec": {
   "display_name": "Python 3 (ipykernel)",
   "language": "python",
   "name": "python3"
  },
  "language_info": {
   "codemirror_mode": {
    "name": "ipython",
    "version": 3
   },
   "file_extension": ".py",
   "mimetype": "text/x-python",
   "name": "python",
   "nbconvert_exporter": "python",
   "pygments_lexer": "ipython3",
   "version": "3.12.6"
  }
 },
 "nbformat": 4,
 "nbformat_minor": 4
}
